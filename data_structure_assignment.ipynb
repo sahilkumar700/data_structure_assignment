{
 "cells": [
  {
   "cell_type": "code",
   "execution_count": 1,
   "id": "adc906d5-8758-4383-abd2-011dd1e526c1",
   "metadata": {},
   "outputs": [],
   "source": [
    "1.Discuss string slicing and provide examples."
   ]
  },
  {
   "cell_type": "code",
   "execution_count": null,
   "id": "c9545145-9bd4-4d5a-b596-67a111995bc8",
   "metadata": {},
   "outputs": [],
   "source": [
    "String slicing in Python allows you to extract substrings from a given string by specifying a start and stop index, and optionally, a step value.\n",
    "It is a very powerful and common feature in Python.\n",
    "basic syntax:\n",
    "substring = string[start:end:step]\n",
    "start: The index where the slice begins (inclusive).\n",
    "end: The index where the slice ends (exclusive).\n",
    "step: The interval between each index to be included in the slice (optional)."
   ]
  },
  {
   "cell_type": "code",
   "execution_count": 4,
   "id": "811601ad-89b4-4196-bea0-652090afe24c",
   "metadata": {},
   "outputs": [
    {
     "name": "stdout",
     "output_type": "stream",
     "text": [
      "Hello\n"
     ]
    }
   ],
   "source": [
    "#example\n",
    "s = \"Hello, World!\"\n",
    "substring = s[0:5]  \n",
    "print(substring)  "
   ]
  },
  {
   "cell_type": "code",
   "execution_count": null,
   "id": "8f78a0ee-d732-4b46-8ae8-66166aba1e4c",
   "metadata": {},
   "outputs": [],
   "source": [
    "2.Explain the key features of lists in Python."
   ]
  },
  {
   "cell_type": "code",
   "execution_count": null,
   "id": "2634b019-bf8a-4b37-97d1-beecbd32f902",
   "metadata": {},
   "outputs": [],
   "source": [
    "Lists in Python are one of the most versatile and widely used data structures. They are ordered, mutable, and can hold items of any data type, \n",
    "including other lists.Here's an overview of the key features of lists in Python:"
   ]
  },
  {
   "cell_type": "code",
   "execution_count": null,
   "id": "faf301f3-f88a-4baa-8070-e891e1d2e824",
   "metadata": {},
   "outputs": [],
   "source": [
    "Ordered:\n",
    "Lists maintain the order of elements in which they are added. This means that the index of each element is fixed based on its position."
   ]
  },
  {
   "cell_type": "code",
   "execution_count": 6,
   "id": "64b3aa13-e646-43c8-ae30-76c10a9a210f",
   "metadata": {},
   "outputs": [
    {
     "name": "stdout",
     "output_type": "stream",
     "text": [
      "10\n"
     ]
    }
   ],
   "source": [
    "my_list = [10, 20, 30]\n",
    "print(my_list[0]) "
   ]
  },
  {
   "cell_type": "code",
   "execution_count": null,
   "id": "f6ec7184-6190-4573-97f0-2c7281f883b5",
   "metadata": {},
   "outputs": [],
   "source": [
    "Mutable:\n",
    "Lists are mutable, meaning that their elements can be changed after the list is created (you can modify, add, or remove elements)."
   ]
  },
  {
   "cell_type": "code",
   "execution_count": 7,
   "id": "24b742d5-9891-4d07-802e-e6108003424d",
   "metadata": {},
   "outputs": [
    {
     "name": "stdout",
     "output_type": "stream",
     "text": [
      "[1, 100, 3]\n"
     ]
    }
   ],
   "source": [
    "my_list = [1, 2, 3]\n",
    "my_list[1] = 100  \n",
    "print(my_list)   "
   ]
  },
  {
   "cell_type": "code",
   "execution_count": null,
   "id": "f7a8ae76-f37f-4862-a8a5-b06b51a11314",
   "metadata": {},
   "outputs": [],
   "source": [
    "Heterogeneous:\n",
    "A list can store elements of different types, including integers, strings, floats, and even other lists."
   ]
  },
  {
   "cell_type": "code",
   "execution_count": 8,
   "id": "d7567713-e199-488b-abeb-68fdbaa8bf82",
   "metadata": {},
   "outputs": [
    {
     "name": "stdout",
     "output_type": "stream",
     "text": [
      "[1, 'apple', 3.1, [2, 4]]\n"
     ]
    }
   ],
   "source": [
    "my_list = [1, \"apple\", 3.1, [2, 4]]\n",
    "print(my_list) "
   ]
  },
  {
   "cell_type": "code",
   "execution_count": null,
   "id": "8f68d135-da94-45ba-8706-3edbbc5714d8",
   "metadata": {},
   "outputs": [],
   "source": [
    "Dynamic Size:\n",
    "Lists are dynamic, meaning their size can grow or shrink during runtime. You can add or remove elements as needed."
   ]
  },
  {
   "cell_type": "code",
   "execution_count": 9,
   "id": "eb6325c5-fba9-4405-b780-5030c7b8a54b",
   "metadata": {},
   "outputs": [
    {
     "name": "stdout",
     "output_type": "stream",
     "text": [
      "[1, 2, 3, 4]\n"
     ]
    }
   ],
   "source": [
    "my_list = [1, 2, 3]\n",
    "my_list.append(4)  \n",
    "print(my_list) "
   ]
  },
  {
   "cell_type": "code",
   "execution_count": null,
   "id": "731c60df-8601-4fb7-b2e9-9f8d4517366e",
   "metadata": {},
   "outputs": [],
   "source": [
    "3. Describe how to access, modify, and delete elements in a list with examples."
   ]
  },
  {
   "cell_type": "code",
   "execution_count": null,
   "id": "411fe2c7-6ae1-45dd-957c-f13fb22c0532",
   "metadata": {},
   "outputs": [],
   "source": [
    "In Python, lists are mutable, which means you can access, modify, and delete elements easily. Here’s how you can do that:"
   ]
  },
  {
   "cell_type": "code",
   "execution_count": null,
   "id": "c13ec26f-0fea-4b0f-a364-482f909472b5",
   "metadata": {},
   "outputs": [],
   "source": [
    "Accessing Elements:\n",
    "You can access list elements using indexing. The index starts from 0 for the first element, and negative indices can be used to access elements from the end."
   ]
  },
  {
   "cell_type": "code",
   "execution_count": 10,
   "id": "28f4bc0a-2a42-44f0-9aa4-95112af2df12",
   "metadata": {},
   "outputs": [
    {
     "name": "stdout",
     "output_type": "stream",
     "text": [
      "30\n",
      "50\n"
     ]
    }
   ],
   "source": [
    "my_list = [10, 20, 30, 40, 50]\n",
    "print(my_list[2])  \n",
    "print(my_list[-1])"
   ]
  },
  {
   "cell_type": "code",
   "execution_count": null,
   "id": "d503cab8-2d0d-4bcd-8ecb-ca2b471ad827",
   "metadata": {},
   "outputs": [],
   "source": [
    "Modifying Elements:\n",
    "You can modify an element of the list by specifying its index and assigning a new value to it."
   ]
  },
  {
   "cell_type": "code",
   "execution_count": 11,
   "id": "1f9b4742-6541-46f7-99f7-b8690d1687a9",
   "metadata": {},
   "outputs": [
    {
     "name": "stdout",
     "output_type": "stream",
     "text": [
      "[10, 100, 30, 40, 50]\n"
     ]
    }
   ],
   "source": [
    "my_list = [10, 20, 30, 40, 50]\n",
    "my_list[1] = 100  \n",
    "print(my_list)  "
   ]
  },
  {
   "cell_type": "code",
   "execution_count": null,
   "id": "6b8b8818-c0ed-4e60-b2b7-439ecb941756",
   "metadata": {},
   "outputs": [],
   "source": [
    "Deleting Elements:\n",
    "You can delete elements from a list using several methods:\n",
    "del: Removes an element at a specific index or the entire list.\n",
    "remove(): Removes the first occurrence of a specific value.\n",
    "pop: Removes and returns the element at a specified index (or the last element by default)."
   ]
  },
  {
   "cell_type": "code",
   "execution_count": 12,
   "id": "c5e06f3e-39a5-493d-802d-008df8a71a17",
   "metadata": {},
   "outputs": [
    {
     "name": "stdout",
     "output_type": "stream",
     "text": [
      "[10, 20, 40, 50]\n"
     ]
    }
   ],
   "source": [
    "my_list = [10, 20, 30, 40, 50]\n",
    "del my_list[2] \n",
    "print(my_list)  "
   ]
  },
  {
   "cell_type": "code",
   "execution_count": null,
   "id": "7dcac7eb-e3a5-4985-b1e4-4bef591d0ac3",
   "metadata": {},
   "outputs": [],
   "source": [
    "4.Compare and contrast tuples and lists with examples."
   ]
  },
  {
   "cell_type": "code",
   "execution_count": null,
   "id": "3c3fca2f-beb3-43dc-b613-be119189f0f3",
   "metadata": {},
   "outputs": [],
   "source": [
    "Comparison of Tuples and Lists in Python\n",
    "Tuples and lists are both ordered collections used to store multiple elements, but they have several important differences in terms of\n",
    "mutability, performance, and use cases."
   ]
  },
  {
   "cell_type": "code",
   "execution_count": null,
   "id": "20853eed-4c15-4fc0-b220-fa18150f0a44",
   "metadata": {},
   "outputs": [],
   "source": [
    "A tuple in Python is an ordered, immutable collection of elements, defined using parentheses ().\n",
    "Key Characteristics:\n",
    "Immutable: Once created, you cannot modify, add, or remove elements.\n",
    "Ordered: Elements maintain their order and can be accessed by index.\n",
    "Can Contain Mixed Data Types: Tuples can store elements of different data types (e.g., integers, strings, other tuples).\n",
    "Hashable: Because of immutability, tuples can be used as keys in dictionaries and added to sets.\n",
    "Faster and Memory Efficient: Tuples are generally faster and more memory-efficient than lists due to their immutability."
   ]
  },
  {
   "cell_type": "code",
   "execution_count": 13,
   "id": "45eb085d-8032-4982-a72c-646d665549a7",
   "metadata": {},
   "outputs": [
    {
     "name": "stdout",
     "output_type": "stream",
     "text": [
      "(1, 2, 3, 'hello')\n"
     ]
    }
   ],
   "source": [
    "my_tuple = (1, 2, 3, \"hello\")\n",
    "print(my_tuple)"
   ]
  },
  {
   "cell_type": "code",
   "execution_count": null,
   "id": "8deaff62-c01a-49c5-8381-540e155d1ae1",
   "metadata": {},
   "outputs": [],
   "source": [
    "A list in Python is an ordered, mutable collection of elements, defined using square brackets [].\n",
    "Key Characteristics:\n",
    "Mutable: You can modify, add, or remove elements after the list is created.\n",
    "Ordered: Elements maintain their order and can be accessed by index.\n",
    "Heterogeneous: Lists can store elements of different data types (e.g., integers, strings, other lists).\n",
    "Dynamic Size: Lists can grow or shrink as elements are added or removed."
   ]
  },
  {
   "cell_type": "code",
   "execution_count": 14,
   "id": "2732568d-c3d4-4294-9925-adb2560e7563",
   "metadata": {},
   "outputs": [
    {
     "name": "stdout",
     "output_type": "stream",
     "text": [
      "[1, 2, 3]\n"
     ]
    }
   ],
   "source": [
    "my_list = [1, 2, 3]\n",
    "print(my_list)"
   ]
  },
  {
   "cell_type": "code",
   "execution_count": null,
   "id": "b34beb7a-cdf2-4ba8-9939-45e8080fd3ae",
   "metadata": {},
   "outputs": [],
   "source": [
    "5. Describe the key features of sets and provide examples of their use."
   ]
  },
  {
   "cell_type": "code",
   "execution_count": null,
   "id": "a714c5fc-d99c-411a-a7fe-f03a1e7ff211",
   "metadata": {},
   "outputs": [],
   "source": [
    "Key Features of Sets in Python\n",
    "A set in Python is an unordered collection of unique elements. Unlike lists and tuples, sets do not allow duplicate values and do not maintain any specific order \n",
    "for the elements.They are defined using curly braces {} or the set() constructor."
   ]
  },
  {
   "cell_type": "code",
   "execution_count": null,
   "id": "8e340e57-f7ff-457b-a5fa-9fa4e978e5c6",
   "metadata": {},
   "outputs": [],
   "source": [
    "Here are the key features of sets:\n",
    "\n",
    "Unordered\n",
    "Sets are unordered, meaning the elements do not have a specific order or index."
   ]
  },
  {
   "cell_type": "code",
   "execution_count": 15,
   "id": "b50d29f3-3d9f-4d31-8345-ef5e3b089847",
   "metadata": {},
   "outputs": [
    {
     "name": "stdout",
     "output_type": "stream",
     "text": [
      "{1, 2, 3}\n"
     ]
    }
   ],
   "source": [
    "my_set = {3, 1, 2}\n",
    "print(my_set) "
   ]
  },
  {
   "cell_type": "code",
   "execution_count": null,
   "id": "e8bf57dd-70f5-442e-b7c8-ae04d0cf6396",
   "metadata": {},
   "outputs": [],
   "source": [
    " Unique Elements\n",
    "A set only stores unique elements. If you try to add a duplicate, it will be ignored."
   ]
  },
  {
   "cell_type": "code",
   "execution_count": 16,
   "id": "673d813d-a780-4948-89db-020835f8a3a6",
   "metadata": {},
   "outputs": [
    {
     "name": "stdout",
     "output_type": "stream",
     "text": [
      "{1, 2, 3, 4}\n"
     ]
    }
   ],
   "source": [
    "my_set = {1, 2, 2, 3, 3, 4}\n",
    "print(my_set)  "
   ]
  },
  {
   "cell_type": "code",
   "execution_count": null,
   "id": "0f78fedb-8858-4e46-8c91-626a8ed70fe7",
   "metadata": {},
   "outputs": [],
   "source": [
    "Mutable\n",
    "Sets are mutable, meaning you can add or remove elements after the set is created"
   ]
  },
  {
   "cell_type": "code",
   "execution_count": 17,
   "id": "d8ca42f0-a34f-4207-9134-d131a7359513",
   "metadata": {},
   "outputs": [
    {
     "name": "stdout",
     "output_type": "stream",
     "text": [
      "{1, 3, 4}\n"
     ]
    }
   ],
   "source": [
    "my_set = {1, 2, 3}\n",
    "my_set.add(4) \n",
    "my_set.remove(2) \n",
    "print(my_set) "
   ]
  },
  {
   "cell_type": "code",
   "execution_count": null,
   "id": "57837706-e12b-4851-a65b-d3ade5c9d4db",
   "metadata": {},
   "outputs": [],
   "source": [
    "No Indexing\n",
    "Sets do not support indexing, slicing, or accessing elements by position like lists or tuples, because they are unordered."
   ]
  },
  {
   "cell_type": "code",
   "execution_count": null,
   "id": "2c80dc38-efb3-448a-936c-4f69bdbeb8ff",
   "metadata": {},
   "outputs": [],
   "source": [
    "6.Discuss the use cases of tuples and sets in Python programming."
   ]
  },
  {
   "cell_type": "code",
   "execution_count": null,
   "id": "c3eede36-99d8-4777-ae99-f469b4d41e95",
   "metadata": {},
   "outputs": [],
   "source": [
    "Use Cases of Tuples in Python\n",
    "Tuples are useful in situations where data integrity is important, and the collection of elements should remain constant throughout the program.\n",
    "Below are some common use cases of tuples in Python programming:"
   ]
  },
  {
   "cell_type": "code",
   "execution_count": null,
   "id": "89d3ff8c-2a4b-4bcf-bac9-c8f1ecea27d1",
   "metadata": {},
   "outputs": [],
   "source": [
    " Immutable Data Storage\n",
    "Since tuples are immutable (i.e., cannot be modified after creation), they are ideal for storing fixed data that should not change. This is useful \n",
    "in scenarios where data integrity needs to be maintained.\n",
    "Example: Storing geographic coordinates (latitude, longitude) that should not be altered."
   ]
  },
  {
   "cell_type": "code",
   "execution_count": 19,
   "id": "6db4b5c0-25d1-4939-a609-1d72d27dd6fd",
   "metadata": {},
   "outputs": [],
   "source": [
    "coordinates = (40.7128, -74.0060)  # Latitude and Longitude for New York City\n"
   ]
  },
  {
   "cell_type": "code",
   "execution_count": null,
   "id": "9587d534-5599-46a0-ac26-108b9ba2d2de",
   "metadata": {},
   "outputs": [],
   "source": [
    " Function Return Values\n",
    "Tuples are often used to return multiple values from a function, as they can hold different data types in a compact and immutable format.\n",
    "Example: Returning multiple values from a function."
   ]
  },
  {
   "cell_type": "code",
   "execution_count": 20,
   "id": "868bc87a-7a24-4422-843d-eaeb001247c9",
   "metadata": {},
   "outputs": [
    {
     "name": "stdout",
     "output_type": "stream",
     "text": [
      "(1, 5)\n"
     ]
    }
   ],
   "source": [
    "def get_min_max(numbers):\n",
    "    return (min(numbers), max(numbers))\n",
    "result = get_min_max([1, 2, 3, 4, 5])\n",
    "print(result)  "
   ]
  },
  {
   "cell_type": "code",
   "execution_count": null,
   "id": "84089390-1dca-4428-873a-24a5c2978706",
   "metadata": {},
   "outputs": [],
   "source": [
    "As Dictionary Keys\n",
    "Tuples are hashable (because they are immutable), which makes them suitable to be used as keys in dictionaries,\n",
    "whereas lists cannot be used as dictionary keys.\n",
    "Example: Storing data associated with a specific coordinate pair."
   ]
  },
  {
   "cell_type": "code",
   "execution_count": 21,
   "id": "6566c4a3-a926-4c4f-8fe8-d97f278642d5",
   "metadata": {},
   "outputs": [
    {
     "name": "stdout",
     "output_type": "stream",
     "text": [
      "New York City\n"
     ]
    }
   ],
   "source": [
    "locations = { (40.7128, -74.0060): \"New York City\", (34.0522, -118.2437): \"Los Angeles\" }\n",
    "print(locations[(40.7128, -74.0060)]) "
   ]
  },
  {
   "cell_type": "code",
   "execution_count": null,
   "id": "05d3527e-d636-439b-b424-ef505c9f92ad",
   "metadata": {},
   "outputs": [],
   "source": [
    "Use Cases of Sets in Python\n",
    "Sets are useful in Python when the focus is on membership (whether an element exists in a collection), \n",
    "uniqueness (no duplicates), and mathematical set operations like union, intersection, and difference. Here are common use cases for sets:"
   ]
  },
  {
   "cell_type": "code",
   "execution_count": null,
   "id": "35434e71-36c0-4f8b-940e-007304ae0301",
   "metadata": {},
   "outputs": [],
   "source": [
    "Removing Duplicates\n",
    "Since sets automatically enforce uniqueness, they are often used to remove duplicates from a collection, such as a list.\n",
    "Example: Removing duplicates from a list."
   ]
  },
  {
   "cell_type": "code",
   "execution_count": 22,
   "id": "5e46ba8f-faf5-4488-8aff-25fb5662f41b",
   "metadata": {},
   "outputs": [
    {
     "name": "stdout",
     "output_type": "stream",
     "text": [
      "{1, 2, 3, 4, 5}\n"
     ]
    }
   ],
   "source": [
    "my_list = [1, 2, 2, 3, 4, 4, 5]\n",
    "unique_elements = set(my_list)\n",
    "print(unique_elements)  "
   ]
  },
  {
   "cell_type": "code",
   "execution_count": null,
   "id": "3e6010cc-875b-44dc-acb7-42f8e1e4044c",
   "metadata": {},
   "outputs": [],
   "source": [
    "Set Operations (Union, Intersection, Difference)\n",
    "Sets are ideal when performing mathematical set operations, such as finding the union, intersection, or difference between two sets of data.\n",
    "These operations are often used in tasks like comparing data sets, filtering, or finding common elements.\n",
    "Example: Using set operations to compare two lists."
   ]
  },
  {
   "cell_type": "code",
   "execution_count": 23,
   "id": "e42fae91-67b6-4fad-9e66-dd1bb5a23ed7",
   "metadata": {},
   "outputs": [
    {
     "name": "stdout",
     "output_type": "stream",
     "text": [
      "{1, 2, 3, 4, 5, 6}\n",
      "{3, 4}\n",
      "{1, 2}\n"
     ]
    }
   ],
   "source": [
    "set1 = {1, 2, 3, 4}\n",
    "set2 = {3, 4, 5, 6}\n",
    "\n",
    "# Union (all elements from both sets)\n",
    "print(set1 | set2)  # Output: {1, 2, 3, 4, 5, 6}\n",
    "\n",
    "# Intersection (common elements)\n",
    "print(set1 & set2)  # Output: {3, 4}\n",
    "\n",
    "# Difference (elements in set1 but not in set2)\n",
    "print(set1 - set2)  # Output: {1, 2}\n"
   ]
  },
  {
   "cell_type": "code",
   "execution_count": null,
   "id": "d38949dc-b9d2-42e1-8483-83a572f220b9",
   "metadata": {},
   "outputs": [],
   "source": [
    "Efficient Membership Testing\n",
    "Sets are faster than lists for membership tests because they use hashing internally. Checking if an item is in a set is done in average O(1) \n",
    "time complexity, while checking in a list is O(n).\n",
    "Example: Checking membership efficiently."
   ]
  },
  {
   "cell_type": "code",
   "execution_count": 24,
   "id": "04c5869e-44d5-421d-ad00-0da040ff6209",
   "metadata": {},
   "outputs": [
    {
     "name": "stdout",
     "output_type": "stream",
     "text": [
      "True\n",
      "False\n"
     ]
    }
   ],
   "source": [
    "my_set = {1, 2, 3, 4, 5}\n",
    "print(3 in my_set)  \n",
    "print(6 in my_set)  "
   ]
  },
  {
   "cell_type": "code",
   "execution_count": null,
   "id": "54a7d84c-da66-4e85-aba0-863fd92443a5",
   "metadata": {},
   "outputs": [],
   "source": [
    "7. Describe how to add, modify, and delete items in a dictionary with examples."
   ]
  },
  {
   "cell_type": "code",
   "execution_count": null,
   "id": "51e341f4-d9ea-41e1-abb7-60182e454ad1",
   "metadata": {},
   "outputs": [],
   "source": [
    "In Python, dictionaries are mutable data structures that store key-value pairs. You can add, modify, and delete items in a dictionary using various methods. \n",
    "Below are the detailed explanations and examples for each operation."
   ]
  },
  {
   "cell_type": "code",
   "execution_count": null,
   "id": "bcc2c179-70be-4c57-b573-78d009b4dc7a",
   "metadata": {},
   "outputs": [],
   "source": [
    "Adding Items to a Dictionary\n",
    "You can add new key-value pairs to a dictionary by simply assigning a value to a new key. If the key does not already exist \n",
    "in the dictionary, it will be added."
   ]
  },
  {
   "cell_type": "code",
   "execution_count": 25,
   "id": "c39bf54e-7176-408d-8433-75936416fe2f",
   "metadata": {},
   "outputs": [
    {
     "name": "stdout",
     "output_type": "stream",
     "text": [
      "{'name': 'John', 'age': 30, 'city': 'New York'}\n"
     ]
    }
   ],
   "source": [
    "my_dict = {'name': 'John', 'age': 30}\n",
    "my_dict['city'] = 'New York'\n",
    "print(my_dict)"
   ]
  },
  {
   "cell_type": "code",
   "execution_count": null,
   "id": "130893da-c530-446d-b07e-8cff82d2d94e",
   "metadata": {},
   "outputs": [],
   "source": [
    "Modifying Items in a Dictionary\n",
    "To modify an existing key's value, simply assign a new value to that key."
   ]
  },
  {
   "cell_type": "code",
   "execution_count": 26,
   "id": "1bb653d6-913c-4759-944d-a30dbde4372e",
   "metadata": {},
   "outputs": [
    {
     "name": "stdout",
     "output_type": "stream",
     "text": [
      "{'name': 'John', 'age': 31}\n"
     ]
    }
   ],
   "source": [
    "my_dict = {'name': 'John', 'age': 30}\n",
    "my_dict['age'] = 31\n",
    "print(my_dict)"
   ]
  },
  {
   "cell_type": "code",
   "execution_count": null,
   "id": "6f5979ca-3aa2-4723-90d2-24723f8b43fa",
   "metadata": {},
   "outputs": [],
   "source": [
    " Deleting Items from a Dictionary\n",
    "There are several ways to delete items from a dictionary:\n",
    "Using del Keyword\n",
    "The del keyword can be used to delete a specific key-value pair from the dictionary. If the key does not exist, it raises a KeyError."
   ]
  },
  {
   "cell_type": "code",
   "execution_count": 27,
   "id": "74943da8-edf9-4732-aa96-3b60d00193b1",
   "metadata": {},
   "outputs": [
    {
     "name": "stdout",
     "output_type": "stream",
     "text": [
      "{'name': 'John', 'age': 30}\n"
     ]
    }
   ],
   "source": [
    "my_dict = {'name': 'John', 'age': 30, 'city': 'New York'}\n",
    "del my_dict['city']\n",
    "print(my_dict)\n"
   ]
  },
  {
   "cell_type": "code",
   "execution_count": null,
   "id": "69fb60ee-8307-486c-b157-194c5ab5430e",
   "metadata": {},
   "outputs": [],
   "source": [
    "8.Discuss the importance of dictionary keys being immutable and provide examples."
   ]
  },
  {
   "cell_type": "code",
   "execution_count": null,
   "id": "93151a54-4478-463f-a3b5-eb351796c994",
   "metadata": {},
   "outputs": [],
   "source": [
    "In Python, dictionary keys must be immutable because they are used by the dictionary's underlying hash table to quickly retrieve values.\n",
    "The immutability of keys ensures that they maintain a constant hash value throughout the dictionary's lifetime.If a key were mutable,\n",
    "its hash value could change while it is in the dictionary, leading to inconsistent behavior and potential errors when trying to access\n",
    "or update dictionary values."
   ]
  },
  {
   "cell_type": "code",
   "execution_count": null,
   "id": "5ebf7c5b-0f97-4c1e-b9e2-bf71c0ac57ad",
   "metadata": {},
   "outputs": [],
   "source": [
    "Why should dictionary keys be immutable?\n",
    "Hash consistency: Dictionaries rely on the hash values of keys to determine where to store and retrieve values. Immutable keys ensure that their \n",
    "hash value remains the same throughout their lifetime, allowing the dictionary to consistently find the correct entry.\n",
    "\n",
    "Avoiding unexpected behavior: If dictionary keys were mutable, their hash values could change unexpectedly, leading to situations where a\n",
    "key becomes \"lost\" in the dictionary. This would cause data retrieval to fail or behave unpredictably.\n",
    "\n",
    "Performance optimization: The immutability of keys allows Python’s hash table implementation to function efficiently, as it can rely on the constant nature of key hashes for quick lookups, insertions, and deletions."
   ]
  },
  {
   "cell_type": "code",
   "execution_count": null,
   "id": "f8f5e014-0a4c-4818-acff-7c6f49af30a2",
   "metadata": {},
   "outputs": [],
   "source": []
  },
  {
   "cell_type": "code",
   "execution_count": null,
   "id": "21e8c5be-6e21-437d-a01d-0d213d62d7c7",
   "metadata": {},
   "outputs": [],
   "source": []
  }
 ],
 "metadata": {
  "kernelspec": {
   "display_name": "Python 3 (ipykernel)",
   "language": "python",
   "name": "python3"
  },
  "language_info": {
   "codemirror_mode": {
    "name": "ipython",
    "version": 3
   },
   "file_extension": ".py",
   "mimetype": "text/x-python",
   "name": "python",
   "nbconvert_exporter": "python",
   "pygments_lexer": "ipython3",
   "version": "3.13.0"
  }
 },
 "nbformat": 4,
 "nbformat_minor": 5
}
